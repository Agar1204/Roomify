import cv2
import torch
from IPython.display import clear_output, Image, display
import PIL.Image
import io
import numpy as np
from IPython.display import display, Javascript, HTML
import ipywidgets as widgets

class RoomDetector:
    def __init__(self):
        self.model = torch.hub.load('ultralytics/yolov5', 'yolov5s')
        self.model.conf = 0.5
        self.is_running = False
        self.cap = None
        
    def start_detection(self, button):
        if not self.is_running:
            self.is_running = True
            self.cap = cv2.VideoCapture(0)
            self.detect_objects()
    
    def stop_detection(self, button):
        self.is_running = False
        if self.cap:
            self.cap.release()
        cv2.destroyAllWindows()
        
    def detect_objects(self):
        while self.is_running:
            ret, frame = self.cap.read()
            if not ret:
                break
                
            # Convert to RGB
            frame_rgb = cv2.cvtColor(frame, cv2.COLOR_BGR2RGB)
            
            # Run detection
            results = self.model(frame_rgb)
            
            # Draw detections
            for det in results.xyxy[0]:
                x1, y1, x2, y2, conf, cls = det.cpu().numpy()
                x1, y1, x2, y2 = int(x1), int(y1), int(x2), int(y2)
                
                # Box
                cv2.rectangle(frame, (x1, y1), (x2, y2), (0, 255, 0), 2)
                
                # Label
                label = f'{self.model.names[int(cls)]} {conf:.2f}'
                cv2.putText(frame, label, (x1, y1-10), 
                           cv2.FONT_HERSHEY_SIMPLEX, 0.5, (0, 255, 0), 2)
            
            # Convert for display
            frame_rgb = cv2.cvtColor(frame, cv2.COLOR_BGR2RGB)
            img_pil = PIL.Image.fromarray(frame_rgb)
            
            # Display
            buf = io.BytesIO()
            img_pil.save(buf, format='JPEG')
            clear_output(wait=True)
            display(Image(data=buf.getvalue()))
            
    def create_buttons(self):
        start_button = widgets.Button(description='Start Detection')
        stop_button = widgets.Button(description='Stop Detection')
        
        start_button.on_click(self.start_detection)
        stop_button.on_click(self.stop_detection)
        
        display(widgets.HBox([start_button, stop_button]))

# Create and run detector
detector = RoomDetector()
detector.create_buttons()
